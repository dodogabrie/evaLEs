{
 "cells": [
  {
   "cell_type": "markdown",
   "id": "fcceb212",
   "metadata": {
    "toc": true
   },
   "source": [
    "<h1>Table of Contents<span class=\"tocSkip\"></span></h1>\n",
    "<div class=\"toc\"><ul class=\"toc-item\"><li><span><a href=\"#Import-Packages\" data-toc-modified-id=\"Import-Packages-1\"><span class=\"toc-item-num\">1&nbsp;&nbsp;</span>Import Packages</a></span></li><li><span><a href=\"#Definition-of-Dynamical-System-with-Numba\" data-toc-modified-id=\"Definition-of-Dynamical-System-with-Numba-2\"><span class=\"toc-item-num\">2&nbsp;&nbsp;</span>Definition of Dynamical System with Numba</a></span></li><li><span><a href=\"#Define-parameters,-temporal-interval-and-initial-conditions:\" data-toc-modified-id=\"Define-parameters,-temporal-interval-and-initial-conditions:-3\"><span class=\"toc-item-num\">3&nbsp;&nbsp;</span>Define parameters, temporal interval and initial conditions:</a></span></li><li><span><a href=\"#Evaluate-the-Lyapunov-Spectrum\" data-toc-modified-id=\"Evaluate-the-Lyapunov-Spectrum-4\"><span class=\"toc-item-num\">4&nbsp;&nbsp;</span>Evaluate the Lyapunov Spectrum</a></span></li><li><span><a href=\"#Definition-of-Dynamical-System-just-in-Python\" data-toc-modified-id=\"Definition-of-Dynamical-System-just-in-Python-5\"><span class=\"toc-item-num\">5&nbsp;&nbsp;</span>Definition of Dynamical System just in Python</a></span></li><li><span><a href=\"#Define-parameters,-temporal-interval-and-initial-conditions:\" data-toc-modified-id=\"Define-parameters,-temporal-interval-and-initial-conditions:-6\"><span class=\"toc-item-num\">6&nbsp;&nbsp;</span>Define parameters, temporal interval and initial conditions:</a></span></li><li><span><a href=\"#Evaluate-the-Lyapunov-Spectrum\" data-toc-modified-id=\"Evaluate-the-Lyapunov-Spectrum-7\"><span class=\"toc-item-num\">7&nbsp;&nbsp;</span>Evaluate the Lyapunov Spectrum</a></span></li></ul></div>"
   ]
  },
  {
   "cell_type": "markdown",
   "id": "ae2e642f",
   "metadata": {},
   "source": [
    "## Import Packages"
   ]
  },
  {
   "cell_type": "code",
   "execution_count": 1,
   "id": "ab9f9d01",
   "metadata": {},
   "outputs": [],
   "source": [
    "%matplotlib inline\n",
    "import matplotlib.pyplot as plt\n",
    "import numpy as np\n",
    "import time\n",
    "from numba import njit"
   ]
  },
  {
   "cell_type": "code",
   "execution_count": 2,
   "id": "8d6511c4",
   "metadata": {},
   "outputs": [],
   "source": [
    "# Python Version\n",
    "import evaLEs.LE as ly\n",
    "# Python + Numba Version\n",
    "import evaLEs.numbaLE as nly"
   ]
  },
  {
   "cell_type": "markdown",
   "id": "2bd21048",
   "metadata": {},
   "source": [
    "## Definition of Dynamical System with Numba"
   ]
  },
  {
   "cell_type": "markdown",
   "id": "f6edc6b8",
   "metadata": {},
   "source": [
    "You can use the @njit decorator for numbaLE"
   ]
  },
  {
   "cell_type": "code",
   "execution_count": 8,
   "id": "13f3e650",
   "metadata": {},
   "outputs": [],
   "source": [
    "@njit\n",
    "def ODE(t, val, p):\n",
    "    \"\"\"\n",
    "    Define the increment of the Dyn. Syst. in the scipy.integrate.ode way\n",
    "    \"\"\"\n",
    "    x = val[0]\n",
    "    y = val[1]\n",
    "    diff = [x*p[0] - y, y*p[1] - x] \n",
    "    return np.array(diff)\n",
    "\n",
    "@njit\n",
    "def J(t, val, p):\n",
    "    \"\"\"\n",
    "    The Jacobian of the system (evaluated by you)\n",
    "    \"\"\"\n",
    "    D = len(val)\n",
    "    J = - np.ones((D,D)) + np.eye(D) * ( p + 1 )\n",
    "    return J"
   ]
  },
  {
   "cell_type": "markdown",
   "id": "45e5164e",
   "metadata": {},
   "source": [
    "## Define parameters, temporal interval and initial conditions:"
   ]
  },
  {
   "cell_type": "code",
   "execution_count": 4,
   "id": "59527169",
   "metadata": {},
   "outputs": [],
   "source": [
    "p = np.array([-0.01, -0.03], dtype=np.float64)\n",
    "\n",
    "init = np.array([0.1, 0.1], dtype=np.float64)\n",
    "\n",
    "ttrans = np.arange(0.0, 100, 0.1, dtype=np.float64)\n",
    "#ttrans = None\n",
    "t = np.arange(0.0, 100, 0.01, dtype=np.float64)"
   ]
  },
  {
   "cell_type": "markdown",
   "id": "015d7def",
   "metadata": {},
   "source": [
    "## Evaluate the Lyapunov Spectrum"
   ]
  },
  {
   "cell_type": "code",
   "execution_count": 5,
   "id": "1e78e82f",
   "metadata": {},
   "outputs": [
    {
     "name": "stdout",
     "output_type": "stream",
     "text": [
      "Exec Time: 5.160209894180298\n",
      "The LEs are: [ 0.97663367 -1.01663367]\n"
     ]
    }
   ],
   "source": [
    "start = time.time()\n",
    "LE = nly.computeLE(ODE, J, init, t, p, ttrans)\n",
    "print(f'Exec Time: {time.time()-start}')\n",
    "print(f'The LEs are: {LE[-1]}')"
   ]
  },
  {
   "cell_type": "markdown",
   "id": "be69d364",
   "metadata": {},
   "source": [
    "Note that the first execution will be slower than the second: let's try another time!"
   ]
  },
  {
   "cell_type": "code",
   "execution_count": 6,
   "id": "eae99650",
   "metadata": {
    "scrolled": true
   },
   "outputs": [
    {
     "name": "stdout",
     "output_type": "stream",
     "text": [
      "Exec Time: 0.0518031120300293\n",
      "The LEs are: [ 0.97663367 -1.01663367]\n"
     ]
    }
   ],
   "source": [
    "start = time.time()\n",
    "LE = nly.computeLE(ODE, J, init, t, p, ttrans)\n",
    "print(f'Exec Time: {time.time()-start}')\n",
    "print(f'The LEs are: {LE[-1]}')"
   ]
  },
  {
   "cell_type": "markdown",
   "id": "de90e7bc",
   "metadata": {},
   "source": [
    "You can osserve the convergence of the LEs during the algorithm:"
   ]
  },
  {
   "cell_type": "code",
   "execution_count": 7,
   "id": "e8d2b57b",
   "metadata": {
    "scrolled": true
   },
   "outputs": [
    {
     "data": {
      "image/png": "[encoded data removed]",
      "text/plain": [
       "<Figure size 1080x216 with 2 Axes>"
      ]
     },
     "metadata": {
      "needs_background": "light"
     },
     "output_type": "display_data"
    }
   ],
   "source": [
    "fig, axs = plt.subplots(1, 2, figsize=(15, 3))\n",
    "for i, (ax, le) in enumerate(zip(axs.flat, LE.T)):\n",
    "    ax.plot(le)\n",
    "    ax.set_title(f'LE {i}')"
   ]
  },
  {
   "cell_type": "markdown",
   "id": "e0339d42",
   "metadata": {},
   "source": [
    "## Definition of Dynamical System just in Python"
   ]
  },
  {
   "cell_type": "code",
   "execution_count": 9,
   "id": "a66c44eb",
   "metadata": {},
   "outputs": [],
   "source": [
    "def ODE(t, val, p):\n",
    "    \"\"\"\n",
    "    Define the increment of the Dyn. Syst. in the scipy.integrate.ode way\n",
    "    \"\"\"\n",
    "    x = val[0]\n",
    "    y = val[1]\n",
    "    diff = [x*p[0] - y, y*p[1] - x] \n",
    "    return np.array(diff)\n",
    "\n",
    "def J(t, val, p):\n",
    "    \"\"\"\n",
    "    The Jacobian of the system (evaluated by you)\n",
    "    \"\"\"\n",
    "    D = len(val)\n",
    "    J = - np.ones((D,D)) + np.eye(D) * ( p + 1 )\n",
    "    return J"
   ]
  },
  {
   "cell_type": "markdown",
   "id": "4295894a",
   "metadata": {},
   "source": [
    "## Evaluate the Lyapunov Spectrum"
   ]
  },
  {
   "cell_type": "code",
   "execution_count": 10,
   "id": "e231e8dc",
   "metadata": {},
   "outputs": [
    {
     "name": "stdout",
     "output_type": "stream",
     "text": [
      "Exec Time: 1.3613581657409668\n",
      "The LEs are: [ 0.97663367 -1.01663367]\n"
     ]
    }
   ],
   "source": [
    "start = time.time()\n",
    "LE = ly.computeLE(ODE, J, init, t, p, ttrans)\n",
    "print(f'Exec Time: {time.time()-start}')\n",
    "print(f'The LEs are: {LE[-1]}')"
   ]
  },
  {
   "cell_type": "code",
   "execution_count": 11,
   "id": "2704b66f",
   "metadata": {},
   "outputs": [
    {
     "data": {
      "image/png": "[encoded data removed]",
      "text/plain": [
       "<Figure size 1080x216 with 2 Axes>"
      ]
     },
     "metadata": {
      "needs_background": "light"
     },
     "output_type": "display_data"
    }
   ],
   "source": [
    "fig, axs = plt.subplots(1, 2, figsize=(15, 3))\n",
    "for i, (ax, le) in enumerate(zip(axs.flat, LE.T)):\n",
    "    ax.plot(le)\n",
    "    ax.set_title(f'LE {i}')"
   ]
  }
 ],
 "metadata": {
  "kernelspec": {
   "display_name": "Python 3",
   "language": "python",
   "name": "python3"
  },
  "language_info": {
   "codemirror_mode": {
    "name": "ipython",
    "version": 3
   },
   "file_extension": ".py",
   "mimetype": "text/x-python",
   "name": "python",
   "nbconvert_exporter": "python",
   "pygments_lexer": "ipython3",
   "version": "3.8.10"
  },
  "toc": {
   "base_numbering": 1,
   "nav_menu": {},
   "number_sections": true,
   "sideBar": true,
   "skip_h1_title": false,
   "title_cell": "Table of Contents",
   "title_sidebar": "Contents",
   "toc_cell": true,
   "toc_position": {},
   "toc_section_display": true,
   "toc_window_display": true
  }
 },
 "nbformat": 4,
 "nbformat_minor": 5
}
